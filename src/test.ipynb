{
 "cells": [
  {
   "cell_type": "code",
   "execution_count": 199,
   "id": "08ce3fa1",
   "metadata": {},
   "outputs": [],
   "source": [
    "# Configurations\n",
    "JSON_FILE = \"./assets/sample.json\""
   ]
  },
  {
   "cell_type": "code",
   "execution_count": 205,
   "id": "267628d1-790b-4d56-90a7-5ab89d52b683",
   "metadata": {},
   "outputs": [],
   "source": [
    "from pyspark.sql import SparkSession\n",
    "import pyspark.sql.functions as F\n",
    "import pyspark.sql.types as T\n",
    "\n",
    "# Create spark session\n",
    "spark = SparkSession \\\n",
    "    .builder \\\n",
    "    .appName(\"PySpark SQL App\") \\\n",
    "    .config(\"\", \"\") \\\n",
    "    .getOrCreate()"
   ]
  },
  {
   "cell_type": "code",
   "execution_count": 227,
   "id": "7a39f09d",
   "metadata": {},
   "outputs": [
    {
     "name": "stdout",
     "output_type": "stream",
     "text": [
      "+-------------+---------+-------+\n",
      "|       domain|timestamp|user_id|\n",
      "+-------------+---------+-------+\n",
      "|    apple.com|111111110| 123456|\n",
      "|   google.com|010111110| 123456|\n",
      "| facebook.com|010101111| 123456|\n",
      "|       amazon|010101111| 123456|\n",
      "|microsoft.com|010111111| 123456|\n",
      "|    apple.com|110101010| 234567|\n",
      "|   google.com|011101010| 234567|\n",
      "|  netflix.com|010111110| 234567|\n",
      "| telegram.com|010101111|    431|\n",
      "|  pokemon.com|010101110|    431|\n",
      "|  digimon.com|111101010|    431|\n",
      "+-------------+---------+-------+\n",
      "\n"
     ]
    }
   ],
   "source": [
    "# Load data files\n",
    "web_log_data = spark.read.option(\"multiline\",\"true\").json(JSON_FILE)\n",
    "web_log_data.show()"
   ]
  },
  {
   "cell_type": "code",
   "execution_count": 241,
   "id": "23021b03",
   "metadata": {},
   "outputs": [],
   "source": [
    "# Get Unique domain names\n",
    "unique_domains = web_log_data.select(web_log_data.domain).distinct()"
   ]
  },
  {
   "cell_type": "code",
   "execution_count": 284,
   "id": "886d7906",
   "metadata": {},
   "outputs": [],
   "source": [
    "from functools import cmp_to_key, reduce\n",
    "from operator import mul\n",
    "from typing import List\n",
    "\n",
    "# Calculate norm of vector\n",
    "def get_normalized(vector):\n",
    "    norm = reduce(lambda acc, cur: acc + cur ** 2, vector) ** 0.5\n",
    "    return [x / norm for x in vector]\n",
    "\n",
    "\n",
    "# Calculate correlation between two stamp\n",
    "@F.udf(returnType=T.FloatType())\n",
    "def get_timestamp_cosine_similarity(\n",
    "        timestamp_a,\n",
    "        timestamp_b\n",
    "    ):\n",
    "    a = [float(i) for i in timestamp_a]\n",
    "    b = [float(i) for i in timestamp_b]\n",
    "    \n",
    "    a = get_normalized(a)\n",
    "    b = get_normalized(b)\n",
    "\n",
    "    dot_product = reduce(\n",
    "        lambda acc, curr: acc + mul(*curr),\n",
    "        zip(a, b),\n",
    "        0\n",
    "    )\n",
    "\n",
    "    return dot_product\n",
    "\n",
    "@F.udf(T.FloatType())\n",
    "def get_rms_correlation(correlations: List[float]) -> float:\n",
    "    return (\n",
    "        reduce(\n",
    "            lambda acc, cur: acc + cur ** 2,\n",
    "            correlations,\n",
    "            0\n",
    "        ) / correlations.__len__()\n",
    "    ) ** 0.5\n",
    "\n",
    "@F.udf(T.IntegerType())\n",
    "def get_len(array: List[float]) -> int:\n",
    "    return array.__len__()\n",
    "\n",
    "cross_joined = web_log_data \\\n",
    "    .alias(\"a\") \\\n",
    "    .join(\n",
    "        web_log_data.alias(\"b\"),\n",
    "        [\n",
    "            F.col('a.user_id') == F.col('b.user_id'),\n",
    "            F.col(\"a.domain\") <  F.col(\"b.domain\")\n",
    "        ]\n",
    "    ) \\\n",
    "    .select(\n",
    "        F.col(\"a.user_id\"),\n",
    "        F.col(\"a.domain\").alias(\"domain_from\"),\n",
    "        F.col(\"b.domain\").alias(\"domain_to\"),\n",
    "        F.col(\"a.timestamp\").alias('timestamp_from'),\n",
    "        F.col(\"b.timestamp\").alias('timestamp_to')\n",
    "    ) \\\n",
    "    .withColumn(\n",
    "        \"correlation\",\n",
    "        get_timestamp_cosine_similarity(\n",
    "            F.col('timestamp_from'),\n",
    "            F.col('timestamp_to'),\n",
    "        )\n",
    "    ) \\\n",
    "    .select(\n",
    "        F.col('user_id'),\n",
    "        F.col('domain_from'),\n",
    "        F.col('domain_to'),\n",
    "        F.col('correlation')\n",
    "    ) \\\n",
    "    .groupby(\n",
    "        F.col('domain_from'),\n",
    "        F.col('domain_to')\n",
    "    ) \\\n",
    "    .agg(\n",
    "        F.collect_list('correlation').alias('correlations')\n",
    "    ) \\\n",
    "    .withColumn(\n",
    "        \"average_correlation\",\n",
    "        get_rms_correlation(\n",
    "            F.col('correlations')\n",
    "        )\n",
    "    ) \\\n",
    "    .withColumn(\n",
    "        \"count_correlation\",\n",
    "        get_len(F.col('correlations'))\n",
    "    )  \\\n",
    "    .show()\n",
    "    "
   ]
  },
  {
   "cell_type": "code",
   "execution_count": 197,
   "id": "eaea2ce2",
   "metadata": {},
   "outputs": [],
   "source": [
    "# Terminate the spark session\n",
    "spark.stop()"
   ]
  }
 ],
 "metadata": {
  "kernelspec": {
   "display_name": "Python 3 (ipykernel)",
   "language": "python",
   "name": "python3"
  },
  "language_info": {
   "codemirror_mode": {
    "name": "ipython",
    "version": 3
   },
   "file_extension": ".py",
   "mimetype": "text/x-python",
   "name": "python",
   "nbconvert_exporter": "python",
   "pygments_lexer": "ipython3",
   "version": "3.10.8"
  }
 },
 "nbformat": 4,
 "nbformat_minor": 5
}
