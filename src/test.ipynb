{
 "cells": [
  {
   "cell_type": "code",
   "execution_count": 199,
   "id": "08ce3fa1",
   "metadata": {},
   "outputs": [],
   "source": [
    "# Configurations\n",
    "JSON_FILE = \"./assets/sample.json\""
   ]
  },
  {
   "cell_type": "code",
   "execution_count": 205,
   "id": "267628d1-790b-4d56-90a7-5ab89d52b683",
   "metadata": {},
   "outputs": [],
   "source": [
    "from pyspark.sql import SparkSession\n",
    "import pyspark.sql.functions as F\n",
    "\n",
    "# Create spark session\n",
    "spark = SparkSession \\\n",
    "    .builder \\\n",
    "    .appName(\"PySpark SQL App\") \\\n",
    "    .config(\"\", \"\") \\\n",
    "    .getOrCreate()"
   ]
  },
  {
   "cell_type": "code",
   "execution_count": 227,
   "id": "7a39f09d",
   "metadata": {},
   "outputs": [
    {
     "name": "stdout",
     "output_type": "stream",
     "text": [
      "+-------------+---------+-------+\n",
      "|       domain|timestamp|user_id|\n",
      "+-------------+---------+-------+\n",
      "|    apple.com|111111110| 123456|\n",
      "|   google.com|010111110| 123456|\n",
      "| facebook.com|010101111| 123456|\n",
      "|       amazon|010101111| 123456|\n",
      "|microsoft.com|010111111| 123456|\n",
      "|    apple.com|110101010| 234567|\n",
      "|   google.com|011101010| 234567|\n",
      "|  netflix.com|010111110| 234567|\n",
      "| telegram.com|010101111|    431|\n",
      "|  pokemon.com|010101110|    431|\n",
      "|  digimon.com|111101010|    431|\n",
      "+-------------+---------+-------+\n",
      "\n"
     ]
    }
   ],
   "source": [
    "# Load data files\n",
    "web_log_data = spark.read.option(\"multiline\",\"true\").json(JSON_FILE)\n",
    "web_log_data.show()"
   ]
  },
  {
   "cell_type": "code",
   "execution_count": 229,
   "id": "23021b03",
   "metadata": {},
   "outputs": [],
   "source": [
    "# Get Unique domain names\n",
    "unique_domains = web_log_data.select(web_log_data.domain).distinct()"
   ]
  },
  {
   "cell_type": "code",
   "execution_count": 207,
   "id": "74dccf15",
   "metadata": {},
   "outputs": [],
   "source": [
    "# Group data by user ID\n",
    "grouped_web_log_data = web_log_data \\\n",
    "    .groupby('user_id') \\\n",
    "    .agg(\n",
    "        F.struct(\n",
    "            F.collect_list(\n",
    "                web_log_data.domain,\n",
    "            ).alias('domains'),\n",
    "            F.collect_list(\n",
    "                web_log_data.timestamp,\n",
    "            ).alias('timestamps')\n",
    "        ).alias('web_log')\n",
    "    )"
   ]
  },
  {
   "cell_type": "code",
   "execution_count": 225,
   "id": "81beb65b",
   "metadata": {},
   "outputs": [
    {
     "name": "stdout",
     "output_type": "stream",
     "text": [
      "+--------------------------------------------------------------------------------------------------------------------------------------------------------------------------------------------------------------------------------------------------------------------------------------------------------------------------------------------------------+\n",
      "|correlation_matrix                                                                                                                                                                                                                                                                                                                                      |\n",
      "+--------------------------------------------------------------------------------------------------------------------------------------------------------------------------------------------------------------------------------------------------------------------------------------------------------------------------------------------------------+\n",
      "|{amazon -> {facebook.com -> 1.0, apple.com -> 0.72168785, google.com -> 0.8333333, microsoft.com -> 0.9258201}, facebook.com -> {google.com -> 0.8333333, microsoft.com -> 0.9258201}, apple.com -> {facebook.com -> 0.72168785, google.com -> 0.8660254, microsoft.com -> 0.80178374}, google.com -> {microsoft.com -> 0.9258201}, microsoft.com -> {}}|\n",
      "|{apple.com -> {netflix.com -> 0.73029673, google.com -> 0.8}, netflix.com -> {}, google.com -> {netflix.com -> 0.73029673}}                                                                                                                                                                                                                             |\n",
      "|{pokemon.com -> {telegram.com -> 0.91287094}, telegram.com -> {}, digimon.com -> {telegram.com -> 0.6666667, pokemon.com -> 0.73029673}}                                                                                                                                                                                                                |\n",
      "+--------------------------------------------------------------------------------------------------------------------------------------------------------------------------------------------------------------------------------------------------------------------------------------------------------------------------------------------------------+\n",
      "\n"
     ]
    }
   ],
   "source": [
    "import pyspark.sql.types as T\n",
    "from functools import cmp_to_key, reduce\n",
    "from operator import mul\n",
    "from typing import List\n",
    "\n",
    "# Calculate norm of vector\n",
    "def get_normalized(vector):\n",
    "    norm = reduce(lambda acc, cur: acc + cur ** 2, vector) ** 0.5\n",
    "    return [x / norm for x in vector]\n",
    "\n",
    "# Calculate correlation between two stamp\n",
    "def get_timestamp_cosine_similarity(\n",
    "        timestamp_a,\n",
    "        timestamp_b\n",
    "    ):\n",
    "    a = [float(i) for i in timestamp_a]\n",
    "    b = [float(i) for i in timestamp_b]\n",
    "    \n",
    "    a = get_normalized(a)\n",
    "    b = get_normalized(b)\n",
    "\n",
    "    dot_product = reduce(\n",
    "        lambda acc, curr: acc + mul(*curr),\n",
    "        zip(a, b),\n",
    "        0\n",
    "    )\n",
    "\n",
    "    return dot_product\n",
    "\n",
    "# Create correlation matrix\n",
    "@F.udf(returnType=T.MapType(\n",
    "        T.StringType(),\n",
    "        T.MapType(\n",
    "            T.StringType(),\n",
    "            T.FloatType(),\n",
    "            False\n",
    "            ),\n",
    "        False\n",
    "    ))\n",
    "def get_user_correlation_matrix(\n",
    "        domains: T.ArrayType,\n",
    "        timestamps: T.ArrayType\n",
    "    ):\n",
    "    \n",
    "    n_domains = len(domains)\n",
    "    \n",
    "    combined: List[List[str]] = [[a, b] for a, b in zip(domains, timestamps)]\n",
    "    \n",
    "    combined = sorted(\n",
    "        combined\n",
    "    )\n",
    "\n",
    "    # Correlatio matrix per user\n",
    "    correlation_matrix = {}\n",
    "        \n",
    "    for i in range(n_domains):\n",
    "        current_domain = {}\n",
    "        for j in range(i + 1, n_domains):\n",
    "            current_domain[combined[j][0]] = get_timestamp_cosine_similarity(\n",
    "                combined[i][1],\n",
    "                combined[j][1]\n",
    "            )\n",
    "        correlation_matrix[combined[i][0]] = current_domain\n",
    "    \n",
    "    return correlation_matrix\n",
    "    \n",
    "correlated_web_log_data = grouped_web_log_data \\\n",
    "    .withColumn(\n",
    "        \"correlation_matrix\",\n",
    "        get_user_correlation_matrix(\n",
    "            grouped_web_log_data.web_log.domains,\n",
    "            grouped_web_log_data.web_log.timestamps\n",
    "        )\n",
    "    )\n",
    "\n",
    "correlated_web_log_data.select(\n",
    "    correlated_web_log_data.correlation_matrix\n",
    ").show(truncate=False)"
   ]
  },
  {
   "cell_type": "code",
   "execution_count": 197,
   "id": "eaea2ce2",
   "metadata": {},
   "outputs": [],
   "source": [
    "# Terminate the spark session\n",
    "spark.stop()"
   ]
  }
 ],
 "metadata": {
  "kernelspec": {
   "display_name": "Python 3 (ipykernel)",
   "language": "python",
   "name": "python3"
  },
  "language_info": {
   "codemirror_mode": {
    "name": "ipython",
    "version": 3
   },
   "file_extension": ".py",
   "mimetype": "text/x-python",
   "name": "python",
   "nbconvert_exporter": "python",
   "pygments_lexer": "ipython3",
   "version": "3.10.8"
  }
 },
 "nbformat": 4,
 "nbformat_minor": 5
}
